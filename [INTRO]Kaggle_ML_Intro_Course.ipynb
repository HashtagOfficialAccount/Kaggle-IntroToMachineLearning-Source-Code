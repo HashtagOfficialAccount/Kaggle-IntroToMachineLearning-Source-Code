{
 "cells": [
  {
   "cell_type": "code",
   "execution_count": null,
   "id": "fa60a26e-e92f-4a23-906a-f0174f2a5caa",
   "metadata": {},
   "outputs": [],
   "source": [
    "#import pandas as pd\n",
    "#from sklearn.tree import DecisionTreeRegressor(max_leaf_nodes = )\n",
    "#from sklearn.metrics import mean_absolute_error\n",
    "#from sklearn.model_selection import train_test_split\n",
    "#from sklearn.ensemble import RandomForestRegressor"
   ]
  },
  {
   "cell_type": "code",
   "execution_count": 5,
   "id": "1ee6123c-17d0-4ffe-8d29-1471082ddeb8",
   "metadata": {},
   "outputs": [
    {
     "name": "stdout",
     "output_type": "stream",
     "text": [
      "       Rooms         Price  Distance  Postcode  Bedroom2  Bathroom       Car  \\\n",
      "count    2.0  2.000000e+00       2.0       2.0       2.0       2.0  2.000000   \n",
      "mean     2.0  1.257500e+06       2.5    3067.0       2.0       1.0  0.500000   \n",
      "std      0.0  3.146625e+05       0.0       0.0       0.0       0.0  0.707107   \n",
      "min      2.0  1.035000e+06       2.5    3067.0       2.0       1.0  0.000000   \n",
      "25%      2.0  1.146250e+06       2.5    3067.0       2.0       1.0  0.250000   \n",
      "50%      2.0  1.257500e+06       2.5    3067.0       2.0       1.0  0.500000   \n",
      "75%      2.0  1.368750e+06       2.5    3067.0       2.0       1.0  0.750000   \n",
      "max      2.0  1.480000e+06       2.5    3067.0       2.0       1.0  1.000000   \n",
      "\n",
      "         Landsize  BuildingArea  YearBuilt  Lattitude  Longtitude  \\\n",
      "count    2.000000           1.0        1.0   2.000000    2.000000   \n",
      "mean   179.000000          79.0     1900.0 -37.803750  144.995900   \n",
      "std     32.526912           NaN        NaN   0.005869    0.003536   \n",
      "min    156.000000          79.0     1900.0 -37.807900  144.993400   \n",
      "25%    167.500000          79.0     1900.0 -37.805825  144.994650   \n",
      "50%    179.000000          79.0     1900.0 -37.803750  144.995900   \n",
      "75%    190.500000          79.0     1900.0 -37.801675  144.997150   \n",
      "max    202.000000          79.0     1900.0 -37.799600  144.998400   \n",
      "\n",
      "       Propertycount  \n",
      "count            2.0  \n",
      "mean          4019.0  \n",
      "std              0.0  \n",
      "min           4019.0  \n",
      "25%           4019.0  \n",
      "50%           4019.0  \n",
      "75%           4019.0  \n",
      "max           4019.0  \n"
     ]
    }
   ],
   "source": [
    "#import pandas and load data\n",
    "import pandas as pd\n",
    "df = pd.read_csv(\"melb_data.csv\")\n",
    "print(df.head(2).describe())"
   ]
  },
  {
   "cell_type": "code",
   "execution_count": 24,
   "id": "4d3866d4-2aca-4bb7-a6d9-4ba64430bd3e",
   "metadata": {},
   "outputs": [
    {
     "name": "stdout",
     "output_type": "stream",
     "text": [
      "Making predictions for the following 5 houses:\n",
      "   Rooms  Bathroom  Landsize\n",
      "1      2       1.0     156.0\n",
      "2      3       2.0     134.0\n",
      "4      4       1.0     120.0\n",
      "6      3       2.0     245.0\n",
      "7      2       1.0     256.0\n",
      "The predictions are\n",
      "[1041250.         1292500.         1600000.         ...  393818.69565217\n",
      "  559355.38492063 2450000.        ]\n",
      "162231.46187555412\n"
     ]
    }
   ],
   "source": [
    "#Decision Tree ML Model\n",
    "\n",
    "import pandas as pd\n",
    "from sklearn.tree import DecisionTreeRegressor\n",
    "from sklearn.metrics import mean_absolute_error\n",
    "\n",
    "df = pd.read_csv(\"melb_data.csv\")\n",
    "#drops empty rows (0)/columns (1)\n",
    "df = df.dropna(axis = 0)\n",
    "\n",
    "melbourne_features = [\"Rooms\",\"Bathroom\",\"Landsize\"]\n",
    "X = df[melbourne_features]\n",
    "y = df.Price\n",
    "\n",
    "model = DecisionTreeRegressor()\n",
    "model.fit(X,y)\n",
    "\n",
    "print(\"Making predictions for the following 5 houses:\")\n",
    "print(X.head())\n",
    "print(\"The predictions are\")\n",
    "predictions = model.predict(X)\n",
    "print(predictions)\n",
    "\n",
    "#input prediction (extra)\n",
    "#r = int(input(\"Enter rooms: \"))\n",
    "#br = int(input(\"Enter bathrooms: \"))\n",
    "#l = int(input(\"Enter landsize: \"))\n",
    "#DF = pd.DataFrame({\"Rooms\": [r],\"Bathroom\": [br],\"Landsize\": [l]})\n",
    "#print(model.predict(DF))\n",
    "\n",
    "print(mean_absolute_error(predictions,y))"
   ]
  },
  {
   "cell_type": "code",
   "execution_count": 7,
   "id": "88db48b8-705c-452f-b3cd-ff2e1663766a",
   "metadata": {},
   "outputs": [
    {
     "name": "stdout",
     "output_type": "stream",
     "text": [
      "162231.46187555412\n"
     ]
    }
   ],
   "source": [
    "#Mean Absolute Error of Model Above\n",
    "#error=actual−predicted (With the MAE metric, we take the absolute value of each error. This converts each error to a positive number. We then take the average of those absolute errors)\\\n",
    "from sklearn.metrics import mean_absolute_error\n",
    "\n",
    "prediction = model.predict(X)\n",
    "\n",
    "print(mean_absolute_error(y, prediction))"
   ]
  },
  {
   "cell_type": "code",
   "execution_count": 8,
   "id": "1e66352f-12b3-43ba-88f8-aae66bef910f",
   "metadata": {},
   "outputs": [
    {
     "name": "stdout",
     "output_type": "stream",
     "text": [
      "162231.4618755543\n"
     ]
    }
   ],
   "source": [
    "#Mean Absolute Error (without using built in function)\n",
    "x = -1\n",
    "z = 0\n",
    "for i in y.index:\n",
    "    x+= 1\n",
    "    if y[i] != prediction[x]:\n",
    "        z += abs(prediction[x] - y[i])\n",
    "print(z/(x+1))"
   ]
  },
  {
   "cell_type": "code",
   "execution_count": 9,
   "id": "47b1664e-cf8a-4d1f-9162-67af4feed2bc",
   "metadata": {},
   "outputs": [
    {
     "name": "stdout",
     "output_type": "stream",
     "text": [
      "[1350000.          610000.         1041275.36231884 ... 1271600.\n",
      " 1468333.33333333 2221000.        ]\n",
      "Mean Absolute Error: 459104.07810967363\n"
     ]
    }
   ],
   "source": [
    "#Train_Test_Split ML Model\n",
    "import pandas as pd\n",
    "from sklearn.tree import DecisionTreeRegressor\n",
    "from sklearn.model_selection import train_test_split\n",
    "\n",
    "df = pd.read_csv(\"melb_data.csv\")\n",
    "df = df.dropna(axis = 0)\n",
    "\n",
    "melbourne_features = [\"Rooms\",\"Bathroom\",\"Landsize\"]\n",
    "X = df[melbourne_features]\n",
    "y = df.Price\n",
    "\n",
    "train_x, validation_x, train_y, validation_y = train_test_split(X,y,random_state = 1)\n",
    "\n",
    "#Train Model using DecisionTreeRegressor with training data x and training data y\n",
    "model = DecisionTreeRegressor()\n",
    "model.fit(train_x,train_y)\n",
    "\n",
    "predictions = model.predict(validation_x)\n",
    "print(predictions)\n",
    "\n",
    "#Calculate mean_absolute_error of predictions of VALIDATION_X and VALIDATION_Y\n",
    "from sklearn.metrics import mean_absolute_error\n",
    "print(\"Mean Absolute Error: \" + str(mean_absolute_error(validation_y,predictions)))"
   ]
  },
  {
   "cell_type": "code",
   "execution_count": 17,
   "id": "a77036f4-be01-4035-8909-7c1cc7a3878f",
   "metadata": {},
   "outputs": [
    {
     "name": "stdin",
     "output_type": "stream",
     "text": [
      "Enter max leaf nodes:  1000\n"
     ]
    },
    {
     "name": "stdout",
     "output_type": "stream",
     "text": [
      "361565.24536417605\n",
      "32\n"
     ]
    }
   ],
   "source": [
    "#Underfitting and Overfitting \n",
    "#Underfitting - Poor prediction on its own data, but captures general trend and makes decent predictions on new data\n",
    "#Overfitting - Very good prediction on its own data, but goes too specific and does not capture general trend and makes bad predictions on new data\n",
    "\n",
    "from sklearn.metrics import mean_absolute_error\n",
    "from sklearn.tree import DecisionTreeRegressor\n",
    "\n",
    "df = pd.read_csv(\"melb_data.csv\")\n",
    "df = df.dropna(axis = 0)\n",
    "\n",
    "melbourne_features = [\"Rooms\",\"Bathroom\",\"Landsize\"]\n",
    "X = df[melbourne_features]\n",
    "y = df.Price\n",
    "\n",
    "train_x, validation_x, train_y, validation_y = train_test_split(X,y,random_state = 1)\n",
    "\n",
    "max_leaf_nodes = int(input(\"Enter max leaf nodes: \"))\n",
    "lowest = 100000000\n",
    "node = 0\n",
    "for i in range(2,max_leaf_nodes + 1):\n",
    "    model = DecisionTreeRegressor(max_leaf_nodes=i, random_state=0)\n",
    "    model.fit(train_x,train_y)\n",
    "    predictions = model.predict(validation_x)\n",
    "    #used to predict ideal number of nodes\n",
    "    \n",
    "    if mean_absolute_error(validation_y,predictions) < lowest:\n",
    "        lowest = mean_absolute_error(validation_y,predictions)\n",
    "        node = i\n",
    "    '''\n",
    "    print(\"Tree nodes: \" + str(i))\n",
    "    print(\"Mean Absolute Error: \" + str(mean_absolute_error(validation_y,predictions)))\n",
    "    '''\n",
    "\n",
    "print(lowest)\n",
    "print(node)\n"
   ]
  },
  {
   "cell_type": "code",
   "execution_count": 23,
   "id": "e98de79c-9866-46d5-a561-f5c35f1c19c9",
   "metadata": {},
   "outputs": [
    {
     "name": "stdout",
     "output_type": "stream",
     "text": [
      "303100.1564716681\n"
     ]
    }
   ],
   "source": [
    "#RandomForestRegressor\n",
    "#The random forest is a classification algorithm consisting of many decisions trees. \n",
    "#It uses bagging and feature randomness when building each individual tree to try to create an uncorrelated forest of trees whose prediction by committee is more accurate than that of any individual tree.\n",
    "from sklearn.metrics import mean_absolute_error\n",
    "from sklearn.ensemble import RandomForestRegressor\n",
    "from sklearn.model_selection import train_test_split\n",
    "\n",
    "df = pd.read_csv(\"melb_data.csv\")\n",
    "df = df.dropna(axis = 0)\n",
    "\n",
    "melbourne_features = [\"Rooms\",\"Bathroom\",\"Landsize\",\"YearBuilt\",\"Car\"]\n",
    "X = df[melbourne_features]\n",
    "y = df.Price\n",
    "\n",
    "train_x, valx, train_y, valy = train_test_split(X,y)\n",
    "model = RandomForestRegressor(n_estimators=80)\n",
    "#n_estimators=(number of trees in the random forest)\n",
    "model.fit(train_x, train_y)\n",
    "predictions = model.predict(valx)\n",
    "print(mean_absolute_error(valy,predictions))\n"
   ]
  },
  {
   "cell_type": "code",
   "execution_count": null,
   "id": "255f4133-b46f-4df7-829f-277d79e8c8e2",
   "metadata": {},
   "outputs": [],
   "source": []
  },
  {
   "cell_type": "code",
   "execution_count": null,
   "id": "bdb6b4b4-c355-44bc-bd3f-c42923e54518",
   "metadata": {},
   "outputs": [],
   "source": []
  }
 ],
 "metadata": {
  "kernelspec": {
   "display_name": "Python 3 (ipykernel)",
   "language": "python",
   "name": "python3"
  },
  "language_info": {
   "codemirror_mode": {
    "name": "ipython",
    "version": 3
   },
   "file_extension": ".py",
   "mimetype": "text/x-python",
   "name": "python",
   "nbconvert_exporter": "python",
   "pygments_lexer": "ipython3",
   "version": "3.10.4"
  },
  "vscode": {
   "interpreter": {
    "hash": "7e1998ff7f8aa20ada591c520b972326324e5ea05489af9e422744c7c09f6dad"
   }
  }
 },
 "nbformat": 4,
 "nbformat_minor": 5
}
